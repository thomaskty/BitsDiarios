{
 "cells": [
  {
   "cell_type": "markdown",
   "metadata": {
    "id": "LYDFDYEIiwXh"
   },
   "source": [
    "### One Way Anova"
   ]
  },
  {
   "cell_type": "markdown",
   "metadata": {
    "id": "hI5Wlo2rh8Qa"
   },
   "source": [
    "Anova : Analysis of variance is a variability ratio.\n",
    "We have been comparing two populations using ;\n",
    "* Independent samples t-tests\n",
    "* Paired sample t-tests\n",
    "* What if we wish to compare the means of more than two populations?\n",
    "* what if we wish to compare populations each containing several levels/subgroups?\n",
    "* Multiple t-tests -> Errors compounds with each t tests->problem\n",
    "\n",
    "\n",
    "\n"
   ]
  },
  {
   "cell_type": "markdown",
   "metadata": {
    "id": "mUTg_9KFgnrD"
   },
   "source": [
    "* How two groups interact each other quantitatively. \n",
    "* Suppose we want to compare three samples means to see if a difference exists somewhere among them. Do all three of these means come from a common population? \n",
    "\n",
    "\\begin{align}\n",
    "\\bar{x_1}, \\bar{x_2} , \\bar{x_3}\n",
    "\\end{align}\n",
    "\n",
    "* Means are in very different locations relative to the overall mean. \n",
    "\n",
    "\\begin{align}\n",
    "H_0 = \\mu_2 = \\mu_2 = \\mu_3\n",
    "\\end{align}\n",
    "\n",
    "* We are not asking if they are exactly equal.We are asking if each mean likely came from the larger overall population. \n",
    "\n",
    "`Variability Among/ Variability Between`\n",
    "* We could have used multiple t-test for testing this null hypothesis. \n",
    "* Error compounds with each t-tests \n",
    "* 0.95 * 0.95 * 0.95 \n",
    "* This is why we dont do t - test here. \n",
    "\n",
    "\n",
    "`Anova is a variability ratio`\n",
    "* Since this is a variance ratio, f -distribution comes into play. \n",
    "\n",
    "`Variance between + variance within(error variance) = total variance` \n",
    "\n",
    "`partitioning = separating total variance into its component parts` \n",
    "\n",
    "* If the variability BETWEEN the means ( distance from overall mean) in the numerator is relatively large compared to the variance WITHIN the samples (internal spread) in the denominator, the ratio will be much larger than 1. The samples then most likely do not come from a common population; REJECT NULL HYPOTHESIS that means are equal."
   ]
  },
  {
   "cell_type": "markdown",
   "metadata": {
    "id": "wHcec_Fzg01Y"
   },
   "source": [
    "\\begin{align}\n",
    "\\Large SST = SSC + SSE \n",
    "\\end{align}\n",
    "\n",
    "`SSC - (column/between sum of squares)`\n",
    "* Find difference between each group mean and the overall mean \n",
    "* sqaure hte deviations \n",
    "* add them up\n",
    "\n",
    "`SST - (total / overall sum of squares)`\n",
    "* Find difference between each data point and the overall mean \n",
    "* square the difference \n",
    "* add them up \n",
    "\n",
    "`SSE - (within sum of sqaures)`\n",
    "* Find the difference between each  data point and its column mean \n",
    "* square it \n",
    "* add them up\n",
    "\n",
    "---------\n",
    "* df(columns) = C-1 \n",
    "* df(error) = N-C\n",
    "* df(total) = N-1 \n",
    "\n"
   ]
  },
  {
   "cell_type": "markdown",
   "metadata": {
    "id": "5-nQJo73g0xr"
   },
   "source": [
    "## Two Way Anova "
   ]
  },
  {
   "cell_type": "markdown",
   "metadata": {
    "id": "bDIzd2dog0vK"
   },
   "source": [
    "* A two way anova allows us to 'account for variation' at the row level due to some other factor or grouping. \n",
    "* By adding blocks or factors to the rows, we can substract out that row variance from the overall error variance\n",
    "* This allows greater focus on column or group differences making it easier to detect group differences. \n",
    "* We are attempting to minimize the error variance by saying, 'hey now , some of the error variance is actually due to the variance in the rows'\n",
    "* total = columns/groups + rows/blocks + error \n"
   ]
  },
  {
   "cell_type": "code",
   "execution_count": null,
   "metadata": {
    "id": "cJrMp3zXg0sx"
   },
   "outputs": [],
   "source": []
  },
  {
   "cell_type": "code",
   "execution_count": null,
   "metadata": {
    "id": "DQw-Psc9g0qH"
   },
   "outputs": [],
   "source": []
  },
  {
   "cell_type": "code",
   "execution_count": null,
   "metadata": {
    "id": "nLRv29reg0nT"
   },
   "outputs": [],
   "source": []
  },
  {
   "cell_type": "code",
   "execution_count": null,
   "metadata": {
    "id": "M-iEzXZNg0kj"
   },
   "outputs": [],
   "source": []
  },
  {
   "cell_type": "code",
   "execution_count": null,
   "metadata": {},
   "outputs": [],
   "source": []
  },
  {
   "cell_type": "code",
   "execution_count": null,
   "metadata": {},
   "outputs": [],
   "source": []
  },
  {
   "cell_type": "code",
   "execution_count": null,
   "metadata": {},
   "outputs": [],
   "source": []
  }
 ],
 "metadata": {
  "colab": {
   "authorship_tag": "ABX9TyNJy55WdUsw3pIofftMXbc/",
   "provenance": []
  },
  "kernelspec": {
   "display_name": "Python 3 (ipykernel)",
   "language": "python",
   "name": "python3"
  },
  "language_info": {
   "codemirror_mode": {
    "name": "ipython",
    "version": 3
   },
   "file_extension": ".py",
   "mimetype": "text/x-python",
   "name": "python",
   "nbconvert_exporter": "python",
   "pygments_lexer": "ipython3",
   "version": "3.11.5"
  }
 },
 "nbformat": 4,
 "nbformat_minor": 1
}

{
 "cells": [
  {
   "cell_type": "markdown",
   "metadata": {
    "id": "LYDFDYEIiwXh"
   },
   "source": [
    "# Analysis of Variance - ANOVA"
   ]
  },
  {
   "cell_type": "markdown",
   "metadata": {
    "id": "hI5Wlo2rh8Qa"
   },
   "source": [
    "Anova : Analysis of variance is a variability ratio.\n",
    "\n",
    "We have been comparing two populations using ;\n",
    "\n",
    "\n",
    "*   Independent samples t-tests\n",
    "*   Paired sample t-tests\n",
    "-------------------\n",
    "* What if we wish to compare the means of more than two populations?\n",
    "* what if we wish to compare populations each containing several levels/subgroups?\n",
    "* Multiple t-tests -> Errors compounds with each t tests->problem\n",
    "\n",
    "\n",
    "\n"
   ]
  },
  {
   "cell_type": "code",
   "execution_count": null,
   "metadata": {
    "id": "mUTg_9KFgnrD"
   },
   "outputs": [],
   "source": []
  },
  {
   "cell_type": "code",
   "execution_count": null,
   "metadata": {
    "id": "wHcec_Fzg01Y"
   },
   "outputs": [],
   "source": []
  },
  {
   "cell_type": "code",
   "execution_count": null,
   "metadata": {
    "id": "5-nQJo73g0xr"
   },
   "outputs": [],
   "source": []
  },
  {
   "cell_type": "code",
   "execution_count": null,
   "metadata": {
    "id": "bDIzd2dog0vK"
   },
   "outputs": [],
   "source": []
  },
  {
   "cell_type": "code",
   "execution_count": null,
   "metadata": {
    "id": "cJrMp3zXg0sx"
   },
   "outputs": [],
   "source": []
  },
  {
   "cell_type": "code",
   "execution_count": null,
   "metadata": {
    "id": "DQw-Psc9g0qH"
   },
   "outputs": [],
   "source": []
  },
  {
   "cell_type": "code",
   "execution_count": null,
   "metadata": {
    "id": "nLRv29reg0nT"
   },
   "outputs": [],
   "source": []
  },
  {
   "cell_type": "code",
   "execution_count": null,
   "metadata": {
    "id": "M-iEzXZNg0kj"
   },
   "outputs": [],
   "source": []
  }
 ],
 "metadata": {
  "colab": {
   "authorship_tag": "ABX9TyNJy55WdUsw3pIofftMXbc/",
   "provenance": []
  },
  "kernelspec": {
   "display_name": "Python 3 (ipykernel)",
   "language": "python",
   "name": "python3"
  },
  "language_info": {
   "codemirror_mode": {
    "name": "ipython",
    "version": 3
   },
   "file_extension": ".py",
   "mimetype": "text/x-python",
   "name": "python",
   "nbconvert_exporter": "python",
   "pygments_lexer": "ipython3",
   "version": "3.11.5"
  }
 },
 "nbformat": 4,
 "nbformat_minor": 1
}

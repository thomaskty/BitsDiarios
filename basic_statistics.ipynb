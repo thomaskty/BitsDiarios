{
 "cells": [
  {
   "cell_type": "markdown",
   "metadata": {},
   "source": [
    "**Central limit Theorem**\n",
    "- sampling distribution of sample means approaches normal distribution as the sample size gets larger (n≥30)\n",
    "- means are normally distributed\n",
    "- it doesn’t matter what distribution we start with.\n",
    "- we can use the normal distribution to make confidence intervals.\n",
    "- is there any difference between means of two samples.\n",
    "- anova : any difference between means of more than two samples.\n",
    "- True for all kinds of distribution\n",
    "- average of sample means will be the estimate of population mean\n",
    "- average of sample standard deviation will be the estimate of population standard deviation.\n",
    "- The CLT provides a theoretical foundation for using the normal distribution in hypothesis tests, even when the distribution of the population is unknown or not necessarily normal.\n",
    "- The CLT states that, under certain conditions, the distribution of the sum or average of a large enough number of independent, identically distributed random variables will be approximately normal, regardless of the original distribution of the variables. This is crucial for hypothesis testing, as it allows us to make inferences about the population based on the normal distribution."
   ]
  },
  {
   "cell_type": "markdown",
   "metadata": {},
   "source": [
    "\n",
    "**Sampling Methods**\n",
    "\n",
    "- Simple Random Sampling\n",
    "    - Each object is equally likely to be selected.\n",
    "    - unbiased and representative of population.\n",
    "- Stratified Sampling\n",
    "    - divide the population into multiple sub populations or strata.\n",
    "    - Based on the overall proportions of the population, you calculate how many people should be sampled from each subgroup.Cluster Sampling\n",
    "- Cluster Sampling\n",
    "    - Cluster sampling also involves dividing the population into subgroups, but each subgroup should have similar characteristics to the whole sample. Instead of sampling individuals from each subgroup, you randomly select entire subgroups.\n",
    "    - If the clusters themselves are large, you can also sample individuals from within each cluster using one of the techniques above. This is called multi stage sampling.\n",
    "- Systematic Sampling\n",
    "    - selecting objects systematically( nth item from every row)\n",
    "    - items are chosen at regular intervals."
   ]
  },
  {
   "cell_type": "markdown",
   "metadata": {},
   "source": [
    "\n",
    "**Type 1 and Type 2 Error**\n",
    "\n",
    "- type 1 : rejecting null hypothesis when it is in-fact true\n",
    "- type 2 : accepting the null hypothesis when it is in fact false"
   ]
  }
 ],
 "metadata": {
  "language_info": {
   "name": "python"
  }
 },
 "nbformat": 4,
 "nbformat_minor": 2
}

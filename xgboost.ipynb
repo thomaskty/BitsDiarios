{
 "cells": [
  {
   "cell_type": "markdown",
   "id": "d0fad29d",
   "metadata": {},
   "source": [
    "XGBoost is an abbreviation of Extreme Gradient Boosted trees.This algorithm trains in a similar manner as GBT trains, except that it introduces a new method for constructing trees.\n",
    "\n",
    "Trees in other ensemble algorithm are created in the conventional manner i.e. either using Gini Impurity or Entropy. But XGBoost introduces a new metric called similarity score for node selection and splitting.\n",
    "\n",
    "Following are the steps involved in creating a Decision Tree using similarity score:\n",
    "\n",
    "* Create a single leaf tree.\n",
    "* For the first tree, compute the average of target variable as prediction and calculate the residuals using the desired loss function. For subsequent trees the residuals come from prediction made by previous tree.\n",
    "* Calculate the similarity score using the following formula:sr squared / # residuals + lambda  where, Hessian is equal to number of residuals; Gradient2 = squared sum of residuals;  λ is a regularization hyperparameter.\n",
    "* Using similarity score we select the appropriate node. Higher the similarity score more the homogeneity.\n",
    "* Using similarity score we calculate Information gain. Information gain gives the difference between old similarity and new similarity and thus tells how much homogeneity is achieved by splitting the node at a given point. It is calculated using the following formula: \n",
    "* Create the tree of desired length using the above method. Pruning and regularization would be done by playing with the regularization hyperparameter.\n",
    "* Predict the  residual values using the Decision Tree you constructed.\n",
    "* The new set of residuals is calculated using the following formula: where ρ is the learning rate.\n",
    "* Go back to step 1 and repeat the process for all the trees.\n"
   ]
  },
  {
   "cell_type": "code",
   "execution_count": null,
   "id": "16a76dc2",
   "metadata": {},
   "outputs": [],
   "source": []
  }
 ],
 "metadata": {
  "kernelspec": {
   "display_name": "Python 3 (ipykernel)",
   "language": "python",
   "name": "python3"
  },
  "language_info": {
   "codemirror_mode": {
    "name": "ipython",
    "version": 3
   },
   "file_extension": ".py",
   "mimetype": "text/x-python",
   "name": "python",
   "nbconvert_exporter": "python",
   "pygments_lexer": "ipython3",
   "version": "3.11.5"
  }
 },
 "nbformat": 4,
 "nbformat_minor": 5
}
